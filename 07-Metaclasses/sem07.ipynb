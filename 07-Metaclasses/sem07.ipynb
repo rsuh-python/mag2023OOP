{
 "cells": [
  {
   "cell_type": "markdown",
   "id": "3912546a-7e05-459d-9677-ec831065eeb6",
   "metadata": {},
   "source": [
    "#### Задача 1. \n",
    "\n",
    "Напишите метакласс с логированием: при определении любого нового класса в файл (путь к которому хранится в статическом атрибуте метакласса) записывается имя этого класса, его суперклассы и атрибуты. "
   ]
  },
  {
   "cell_type": "code",
   "execution_count": null,
   "id": "af0d1736-d64f-4d35-afd3-f0993f595d1a",
   "metadata": {},
   "outputs": [],
   "source": [
    "# your code here"
   ]
  },
  {
   "cell_type": "markdown",
   "id": "941a875a-a499-40a7-a719-de7f5faf5335",
   "metadata": {},
   "source": [
    "#### Задача 2. \n",
    "\n",
    "Напишите метакласс, который любому новому классу будет добавлять метод sayHello(\\*args, \\*\\*kwargs). "
   ]
  },
  {
   "cell_type": "code",
   "execution_count": null,
   "id": "abbb5388-fec9-404b-a968-5a0f3bebfbec",
   "metadata": {},
   "outputs": [],
   "source": [
    "# your code here"
   ]
  },
  {
   "cell_type": "markdown",
   "id": "fbef0a1a-e89c-44c6-8fb6-bf12eed79f4b",
   "metadata": {},
   "source": [
    "#### Задача 3. \n",
    "\n",
    "Напишите метакласс, который позволяет своим классам иметь только атрибуты name, surname, age и никаких других. "
   ]
  },
  {
   "cell_type": "code",
   "execution_count": null,
   "id": "4b757c9d-f2d8-4931-8d88-d4d9df5dc2b5",
   "metadata": {},
   "outputs": [],
   "source": [
    "# your code here"
   ]
  },
  {
   "cell_type": "markdown",
   "id": "50fd191e-dd8a-4bda-9229-529b126ceb3b",
   "metadata": {},
   "source": [
    "#### Задача 4 (2 балла). \n",
    "\n",
    "Приготовимся в большом проекте создать игру-стратегию (графику потом дизайнеры добавят). Наша игра будет называться Dawn of Man, и задачей игрока будет управлять поселением первобытных людей, которые в процессе набирают очки знаний и открывают новые технологии. Наши люди - это отдельные юниты, которые умеют взаимодействовать с элементами окружающей среды: у них будут какие-то инструменты для создания еды, оружия и прочего (например, какой-нибудь навес, под которым человек садится, набрав палок и камней, и ваяет себе палку-копалку). \n",
    "\n",
    "Наша задача - набросать черновик для игры: создать абстрактные классы для людей, объектов, с которыми они взаимодействуют, чтобы создавать вещи, и собственно вещей. Возможно, имеет смысл также предусмотреть черновик-класс для животных, на которых люди будут охотиться. \n",
    "\n",
    "Попробуйте также создать конкретный класс для кого-нибудь из них. "
   ]
  },
  {
   "cell_type": "code",
   "execution_count": null,
   "id": "6e644cce-f06e-4d69-b451-935915630b3a",
   "metadata": {},
   "outputs": [],
   "source": [
    "# your code here"
   ]
  }
 ],
 "metadata": {
  "kernelspec": {
   "display_name": "Python 3 (ipykernel)",
   "language": "python",
   "name": "python3"
  },
  "language_info": {
   "codemirror_mode": {
    "name": "ipython",
    "version": 3
   },
   "file_extension": ".py",
   "mimetype": "text/x-python",
   "name": "python",
   "nbconvert_exporter": "python",
   "pygments_lexer": "ipython3",
   "version": "3.11.5"
  }
 },
 "nbformat": 4,
 "nbformat_minor": 5
}
