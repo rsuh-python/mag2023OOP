{
 "cells": [
  {
   "cell_type": "markdown",
   "id": "4f5edd66-d4ca-4b62-b313-8a89f03e7601",
   "metadata": {},
   "source": [
    "## Метаклассы, абстрактные классы\n",
    "\n",
    "Метаклассы - это такие объекты, которые переопределяют механизм создания самих классов. Они могут пригождаться для разработки API-интерфейсов и инструментов, простым же смертным обычно не нужны. \n",
    "\n",
    "Во-первых, какие инструменты для разработки инструментов мы с вами уже знаем:\n",
    "\n",
    "- атрибуты и инструменты интроспекции: \\_\\_dict\\_\\_, \\_\\_slots\\_\\_, \\_\\_class\\_\\_ и подобные. \n",
    "- методы перегрузки операций\n",
    "- методы перехвата доступа к атрибутам\n",
    "- свойства классов (property)\n",
    "- дескрипторы атрибутов классов\n",
    "- декораторы функций и классов, дополняющие логику оных"
   ]
  },
  {
   "cell_type": "markdown",
   "id": "2b2b9a3b-4e84-43de-8198-36d9905bb242",
   "metadata": {},
   "source": [
    "Метаклассы - продолжают декораторы, они тоже позволяют вставлять логику, оборачивающую наш объект класса. Механизм метаклассов сильно напоминает декораторы классов, но не привязывает имя класса к результату, возвращенному вызываемым объектом декоратора, а взамен поручает процедуру создания самого класса специализированной логике. То есть, если мы используем метакласс, он будет добавлять какие-нибудь фишечки на этап создания экземпляра класса. "
   ]
  },
  {
   "cell_type": "markdown",
   "id": "c574c35f-2299-43cd-ac37-70d0516961dc",
   "metadata": {},
   "source": [
    "Что вообще такое метакласс?\n",
    "\n",
    "Мы с вами знаем, что все типы данных в питоне относятся к какому-нибудь классу, например, все числа - это класс int, и так далее. Все классы на самом деле тоже относятся к какому-то классу, ведь это же тоже объекты? Этот класс в питоне называется type, и он же является метаклассом. Мы можем создавать классы с его помощью:"
   ]
  },
  {
   "cell_type": "code",
   "execution_count": 62,
   "id": "15f25ee1-84a2-4e01-9388-1b41a99ee731",
   "metadata": {},
   "outputs": [],
   "source": [
    "class A: pass\n",
    "\n",
    "a = A()\n",
    "a.a = 'a'"
   ]
  },
  {
   "cell_type": "code",
   "execution_count": 65,
   "id": "b7e55d22-315d-40c0-8b91-53ad546bff88",
   "metadata": {},
   "outputs": [
    {
     "data": {
      "text/plain": [
       "type"
      ]
     },
     "execution_count": 65,
     "metadata": {},
     "output_type": "execute_result"
    }
   ],
   "source": [
    "type(A)"
   ]
  },
  {
   "cell_type": "code",
   "execution_count": 66,
   "id": "2c02aa50-0a8a-45ba-95fb-edafb809c36b",
   "metadata": {},
   "outputs": [],
   "source": [
    "A = type('A', (), {})  \n",
    "# class A(B):\n",
    "# __bases__\n",
    "# \n",
    "\n",
    "class B(A, C):\n",
    "    def __init__(self):\n",
    "        for base in B.__bases__:\n",
    "            base.__init__(self)"
   ]
  },
  {
   "cell_type": "code",
   "execution_count": 67,
   "id": "96352002-36a2-447c-a4a1-6191c1703a93",
   "metadata": {},
   "outputs": [
    {
     "data": {
      "text/plain": [
       "__main__.A"
      ]
     },
     "execution_count": 67,
     "metadata": {},
     "output_type": "execute_result"
    }
   ],
   "source": [
    "A"
   ]
  },
  {
   "cell_type": "code",
   "execution_count": 74,
   "id": "0f90d963-e052-406d-b91f-1b5d1dc845b2",
   "metadata": {},
   "outputs": [],
   "source": [
    "B = type('B', (A,), {'b': ''})"
   ]
  },
  {
   "cell_type": "code",
   "execution_count": 75,
   "id": "cedf62de-12b7-41aa-9799-82323221f83d",
   "metadata": {},
   "outputs": [
    {
     "data": {
      "text/plain": [
       "__main__.B"
      ]
     },
     "execution_count": 75,
     "metadata": {},
     "output_type": "execute_result"
    }
   ],
   "source": [
    "B"
   ]
  },
  {
   "cell_type": "code",
   "execution_count": 71,
   "id": "66fe1009-266a-494e-b41b-9cc7016a6a9a",
   "metadata": {},
   "outputs": [],
   "source": [
    "b = B()"
   ]
  },
  {
   "cell_type": "code",
   "execution_count": 77,
   "id": "68e75710-f9cb-428e-b6a7-1a2caec7a38e",
   "metadata": {},
   "outputs": [
    {
     "data": {
      "text/plain": [
       "''"
      ]
     },
     "execution_count": 77,
     "metadata": {},
     "output_type": "execute_result"
    }
   ],
   "source": [
    "B.b"
   ]
  },
  {
   "cell_type": "markdown",
   "id": "86f21537-a1ce-419e-96de-14b9d51891b0",
   "metadata": {},
   "source": [
    "Таким образом, type принимает имя для класса, кортеж из его классов-родителей и словарь из его атрибутов со значениями. \n",
    "\n",
    "Получается, у класса type есть магический метод \\_\\_call\\_\\_, который и срабатывает, когда мы создаем экземпляр класса, который сам является экземпляром type. Внутри себя \\_\\_call\\_\\_ вызывает соответственно \\_\\_new\\_\\_ и \\_\\_init\\_\\_. Это все мы можем переопределить при создании метакласса. "
   ]
  },
  {
   "cell_type": "code",
   "execution_count": 78,
   "id": "f76c81b4-4c1b-44f1-ab18-b4899ab5ee15",
   "metadata": {},
   "outputs": [],
   "source": [
    "class Meta(type):\n",
    "    def __new__(cls, name, bases, dct):\n",
    "        x = super().__new__(cls, name, bases, dct)\n",
    "        x.attr = 100\n",
    "        return x"
   ]
  },
  {
   "cell_type": "code",
   "execution_count": 79,
   "id": "ea2194b6-12cf-48ff-9602-125c06f29672",
   "metadata": {},
   "outputs": [],
   "source": [
    "class Foo(metaclass=Meta): pass"
   ]
  },
  {
   "cell_type": "code",
   "execution_count": 80,
   "id": "698bda50-6d2a-4275-aba9-df2d2b635295",
   "metadata": {},
   "outputs": [
    {
     "data": {
      "text/plain": [
       "mappingproxy({'__module__': '__main__',\n",
       "              '__dict__': <attribute '__dict__' of 'Foo' objects>,\n",
       "              '__weakref__': <attribute '__weakref__' of 'Foo' objects>,\n",
       "              '__doc__': None,\n",
       "              'attr': 100})"
      ]
     },
     "execution_count": 80,
     "metadata": {},
     "output_type": "execute_result"
    }
   ],
   "source": [
    "Foo.__dict__"
   ]
  },
  {
   "cell_type": "markdown",
   "id": "8a8a1a51-2349-43df-99f2-6d444b54b7ad",
   "metadata": {},
   "source": [
    "Таким образом, любые классы, метаклассом которых является класс Meta, будут автоматически при создании получать атрибут attr со значением 100. Разумеется, обычно на практике если используют метаклассы, пишут гораздо более сложные вещи. \n",
    "\n",
    "Для чего нам с вами про это вообще говорить? Ну, больше знать - не меньше знать :), а еще в какой-то момент вы можете  обнаружить, что для вашей задачи как раз нужен метакласс. Ну и наконец, это позволяет еще глубже вникнуть в нутро питона и разобраться с его классами. "
   ]
  },
  {
   "cell_type": "markdown",
   "id": "b57536c1-7d0e-4bf0-b1aa-6f0761b1f098",
   "metadata": {},
   "source": [
    "#### Абстрактные классы и методы\n",
    "\n",
    "Абстрактный класс - это своего рода шаблон для классов, которые будут от него наследовать. Основное отличие абстрактного класса (и абстрактных методов) в том, что нельзя создавать экземпляры этого класса (и с такими методами). Обычно они используются для большей структуризации кода. Самый наглядный, пожалуй, пример - это с животными. У нас нет в природе экземпляра класса \"животное\", который бы не относился ни к одному из его подклассов (кошка, собака и т.п.). "
   ]
  },
  {
   "cell_type": "code",
   "execution_count": 81,
   "id": "34843e2e-3132-4fdc-9386-63885106e857",
   "metadata": {},
   "outputs": [],
   "source": [
    "from abc import ABC, abstractmethod"
   ]
  },
  {
   "cell_type": "code",
   "execution_count": 86,
   "id": "83cf25cc-b108-4745-bd5f-7342d10abc2f",
   "metadata": {},
   "outputs": [],
   "source": [
    "class Animal(ABC):\n",
    "    \n",
    "    @abstractmethod\n",
    "    def move(self):\n",
    "        pass\n",
    "    \n",
    "    @abstractmethod\n",
    "    def speak(self):\n",
    "        pass\n",
    "    \n",
    "class Cat(Animal):\n",
    "    def move(self):\n",
    "        print('I walk')\n",
    "    def speak(self):\n",
    "        print('miaouw')\n",
    "        \n",
    "class Fish(Animal):\n",
    "    def move(self):\n",
    "        print('I swim')\n",
    "    def speak(self):\n",
    "        print('...')"
   ]
  },
  {
   "cell_type": "code",
   "execution_count": 83,
   "id": "779beaac-8682-4588-aadb-230ff57c64e5",
   "metadata": {},
   "outputs": [
    {
     "ename": "TypeError",
     "evalue": "Can't instantiate abstract class Animal with abstract methods move, speak",
     "output_type": "error",
     "traceback": [
      "\u001b[0;31m---------------------------------------------------------------------------\u001b[0m",
      "\u001b[0;31mTypeError\u001b[0m                                 Traceback (most recent call last)",
      "Input \u001b[0;32mIn [83]\u001b[0m, in \u001b[0;36m<cell line: 1>\u001b[0;34m()\u001b[0m\n\u001b[0;32m----> 1\u001b[0m a \u001b[38;5;241m=\u001b[39m \u001b[43mAnimal\u001b[49m\u001b[43m(\u001b[49m\u001b[43m)\u001b[49m\n",
      "\u001b[0;31mTypeError\u001b[0m: Can't instantiate abstract class Animal with abstract methods move, speak"
     ]
    }
   ],
   "source": [
    "a = Animal()"
   ]
  },
  {
   "cell_type": "code",
   "execution_count": 87,
   "id": "344eaf90-71dc-4416-ad17-ddd14d4ad944",
   "metadata": {},
   "outputs": [
    {
     "ename": "TypeError",
     "evalue": "Can't instantiate abstract class Cat with abstract method speak",
     "output_type": "error",
     "traceback": [
      "\u001b[0;31m---------------------------------------------------------------------------\u001b[0m",
      "\u001b[0;31mTypeError\u001b[0m                                 Traceback (most recent call last)",
      "Input \u001b[0;32mIn [87]\u001b[0m, in \u001b[0;36m<cell line: 1>\u001b[0;34m()\u001b[0m\n\u001b[0;32m----> 1\u001b[0m c \u001b[38;5;241m=\u001b[39m \u001b[43mCat\u001b[49m\u001b[43m(\u001b[49m\u001b[43m)\u001b[49m\n",
      "\u001b[0;31mTypeError\u001b[0m: Can't instantiate abstract class Cat with abstract method speak"
     ]
    }
   ],
   "source": [
    "c = Cat()"
   ]
  },
  {
   "cell_type": "code",
   "execution_count": 85,
   "id": "257f3fd2-72fb-4efa-870b-0eeef65dc938",
   "metadata": {},
   "outputs": [
    {
     "name": "stdout",
     "output_type": "stream",
     "text": [
      "I walk\n"
     ]
    }
   ],
   "source": [
    "c.move()"
   ]
  },
  {
   "cell_type": "markdown",
   "id": "d92dfe30-9052-4f8b-bed3-806fcb1db7c6",
   "metadata": {},
   "source": [
    "Абстрактные классы и методы ровно это и иллюстрируют. Абстрактный класс \"животное\" не позволяет создать свой конкретный экземпляр, а у классов-наследников мы обязаны переопределить все методы абстрактного класса, потому что абстрактные методы не могут быть у конкретных классов. \n",
    "\n",
    "Существует также декоратор @absctractproperty, его я не показала, но идея там та же. "
   ]
  }
 ],
 "metadata": {
  "kernelspec": {
   "display_name": "Python 3 (ipykernel)",
   "language": "python",
   "name": "python3"
  },
  "language_info": {
   "codemirror_mode": {
    "name": "ipython",
    "version": 3
   },
   "file_extension": ".py",
   "mimetype": "text/x-python",
   "name": "python",
   "nbconvert_exporter": "python",
   "pygments_lexer": "ipython3",
   "version": "3.11.5"
  }
 },
 "nbformat": 4,
 "nbformat_minor": 5
}
